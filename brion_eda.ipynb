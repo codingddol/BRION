{
 "cells": [
  {
   "cell_type": "markdown",
   "id": "4ae03fdd",
   "metadata": {},
   "source": [
    "\n",
    "# brion_eda.ipynb\n",
    "\n",
    "**BRION 유방암 모델용 데이터 분석/시각화 노트북**\n",
    "\n",
    "- 병기(Stage) 및 아형(Subtype) 기준으로 약제 개수, 급여 여부 등 시각화\n",
    "- `nccn_breast_stage_drug_map_final_500plus.csv` 기반 분석\n",
    "- 주요 분석: 병기별 약제 수 분포, 급여여부 비율, 아형별 추천약제 수 등\n",
    "- matplotlib/seaborn 기반 막대그래프, pie chart 등 시각화 포함\n",
    "\n",
    "이 노트북은 `./data/` 또는 동일 경로에 CSV 파일이 위치해야 작동합니다."
   ]
  },
  {
   "cell_type": "code",
   "execution_count": 20,
   "id": "d88197d7-ae78-4734-ba78-3d3c4e1dd888",
   "metadata": {},
   "outputs": [],
   "source": [
    "import pandas as pd\n",
    "import numpy as np\n",
    "from difflib import SequenceMatcher\n",
    "import io\n",
    "import sys\n",
    "import os"
   ]
  },
  {
   "cell_type": "markdown",
   "id": "9021b135",
   "metadata": {},
   "source": [
    "예시입니다: 필요 시 다른 txt 파일명을 아래에 입력하세요."
   ]
  },
  {
   "cell_type": "code",
   "execution_count": null,
   "id": "83183d96-01d0-4426-bed6-8a9e27a76843",
   "metadata": {},
   "outputs": [],
   "source": [
    "file_path = os.path.join(os.getcwd(), \"test_breast_data_varied.csv\")"
   ]
  },
  {
   "cell_type": "code",
   "execution_count": null,
   "id": "8fd98ea8",
   "metadata": {},
   "outputs": [],
   "source": [
    "try:\n",
    "    base_dir = os.path.dirname(__file__)\n",
    "except NameError:\n",
    "    # Jupyter Notebook일 경우 현재 워킹 디렉토리로 대체\n",
    "    base_dir = os.getcwd()"
   ]
  },
  {
   "cell_type": "code",
   "execution_count": 22,
   "id": "2f487fd4-6040-49dc-8c16-784b424be41f",
   "metadata": {},
   "outputs": [],
   "source": [
    "def full_safe_eda(df: pd.DataFrame):\n",
    "    print(\"\\U0001F4CC [1] 데이터 크기 및 컬럼 수\")\n",
    "    print(f\"- 행(row) 수: {df.shape[0]:,}\")\n",
    "    print(f\"- 열(column) 수: {df.shape[1]:,}\")\n",
    "\n",
    "    print(\"\\n\\U0001F4CC [2] 컬럼별 데이터 타입\")\n",
    "    dtype_df = df.dtypes.reset_index()\n",
    "    dtype_df.columns = ['컬럼명', '데이터 타입']\n",
    "    print(dtype_df.to_string(index=False))\n",
    "\n",
    "    print(\"\\n\\U0001F4CC [3] 결측치 수 및 비율 (정밀) - null 비율 소수점 4자리\")\n",
    "    null_count = df.isnull().sum()\n",
    "    null_percent = (null_count / len(df) * 100).round(4)\n",
    "    null_df = pd.DataFrame({'null_count': null_count, 'null_percent(%)': null_percent})\n",
    "    null_df = null_df.sort_values('null_percent(%)', ascending=False)\n",
    "    print(null_df)\n",
    "\n",
    "    print(\"\\n\\U0001F4CC [4] 수치형 변수 요약 통계 + 추가 지표\")\n",
    "    if not df.select_dtypes(include=[np.number]).empty:\n",
    "        desc = df.describe(include=[np.number]).T\n",
    "        desc['range'] = desc['max'] - desc['min']\n",
    "        desc['iqr'] = desc['75%'] - desc['25%']\n",
    "        desc['missing'] = df.isnull().sum()\n",
    "        print(desc[['count', 'mean', 'std', 'min', '25%', '50%', '75%', 'max', 'range', 'iqr', 'missing']].round(4))\n",
    "    else:\n",
    "        print(\"❗ 수치형 변수가 없습니다.\")\n",
    "\n",
    "    print(\"\\n\\U0001F4CC [5] 범주형 변수 분포 상위 5개\")\n",
    "    cat_cols = df.select_dtypes(include='object').columns\n",
    "    if len(cat_cols) == 0:\n",
    "        print(\"❗ 범주형 변수가 없습니다.\")\n",
    "    else:\n",
    "        for col in cat_cols:\n",
    "            print(f\"\\n- {col} (고유값 {df[col].nunique()}개 / 총 {len(df)}행 중)\")\n",
    "            print(df[col].value_counts(dropna=False).head(5))\n",
    "\n",
    "    print(\"\\n\\U0001F4CC [6] 문자열 길이 통계 (min/max/mean/median/std/var)\")\n",
    "    for col in cat_cols:\n",
    "        lengths = df[col].dropna().astype(str).apply(len)\n",
    "        if not lengths.empty:\n",
    "            print(f\"- {col}: min={lengths.min()}, max={lengths.max()}, mean={lengths.mean():.2f}, median={lengths.median():.2f}, std={lengths.std():.2f}, var={lengths.var():.2f}\")\n",
    "\n",
    "    print(\"\\n\\U0001F4CC [7] 각 컬럼 고유값 5개 예시\")\n",
    "    for col in df.columns:\n",
    "        unique_vals = df[col].dropna().unique()\n",
    "        print(f\"- {col} (고유값 {len(unique_vals)}개): {unique_vals[:5]}\")\n",
    "\n",
    "    print(\"\\n\\U0001F4CC [8] 변수 간 상관관계 (상위 10쌍 + 평균 + 강한 관계 분리)\")\n",
    "    numeric_cols = df.select_dtypes(include=[np.number]).columns\n",
    "    if len(numeric_cols) < 2:\n",
    "        print(\"❗ 상관계수 계산할 수 있는 수치형 변수가 부족합니다.\")\n",
    "    else:\n",
    "        corr_matrix = df[numeric_cols].corr().round(4)\n",
    "        corr_pairs = corr_matrix.unstack()\n",
    "        corr_pairs = corr_pairs[corr_pairs.index.get_level_values(0) != corr_pairs.index.get_level_values(1)]\n",
    "        corr_pairs = corr_pairs.dropna().sort_values(key=abs, ascending=False)\n",
    "        unique_pairs = corr_pairs.groupby(lambda x: frozenset(x)).first()\n",
    "        top_10 = unique_pairs.head(10)\n",
    "        for (var1, var2), val in top_10.items():\n",
    "            print(f\"- {list(var1)[0]} ↔ {list(var1)[1]}: 상관계수 {val:.4f}\")\n",
    "        print(f\"\\n- 전체 변수 간 상관계수 평균: {unique_pairs.abs().mean():.4f}\")\n",
    "        print(f\"- 총 변수 쌍 수: {len(unique_pairs)}\")\n",
    "        strong_pos = unique_pairs[unique_pairs > 0.8]\n",
    "        strong_neg = unique_pairs[unique_pairs < -0.8]\n",
    "        print(f\"- 강한 양의 상관관계: {len(strong_pos)}쌍, 강한 음의 상관관계: {len(strong_neg)}쌍\")\n",
    "\n",
    "    print(\"\\n\\U0001F4CC [9] 컬럼명 패턴 자동 분류\")\n",
    "    for col in df.columns:\n",
    "        col_lower = col.lower()\n",
    "        if 'date' in col_lower:\n",
    "            print(f\"[DATE] {col}\")\n",
    "        elif 'code' in col_lower:\n",
    "            print(f\"[CODE] {col}\")\n",
    "        elif 'flag' in col_lower or 'yn' in col_lower:\n",
    "            print(f\"[FLAG] {col}\")\n",
    "\n",
    "    print(\"\\n\\U0001F4CC [10] 오염된 타입 탐지 (숫자형인데 object로 저장된 컬럼)\")\n",
    "    found_flag = False\n",
    "    for col in cat_cols:\n",
    "        try:\n",
    "            df[col].astype(float)\n",
    "            print(f\"[가능] '{col}' → float 변환 가능 (숫자형 오염 가능성)\")\n",
    "            found_flag = True\n",
    "        except:\n",
    "            continue\n",
    "    if not found_flag:\n",
    "        print(\"❗ 숫자형 오염된 object 컬럼 없음\")\n",
    "\n",
    "    print(\"\\n\\U0001F4CC [11] 행 기준 결측치 통계 + 분포\")\n",
    "    df['nulls_per_row'] = df.isnull().sum(axis=1)\n",
    "    print(df['nulls_per_row'].describe().round(2))\n",
    "    bins = pd.cut(df['nulls_per_row'], bins=[-1, 0, 1, 3, 5, np.inf], labels=['0', '1', '2~3', '4~5', '6+'])\n",
    "    print(\"\\n- 결측치 개수별 행 분포:\")\n",
    "    print(bins.value_counts().sort_index())\n",
    "    df.drop(columns=['nulls_per_row'], inplace=True)\n",
    "\n",
    "    print(\"\\n\\U0001F4CC [12] 컬럼명 유사도 비교 (모든 쌍 유사도 점수 포함, cutoff=0.75 이상만 표시)\")\n",
    "    similarities = []\n",
    "    cols = df.columns.tolist()\n",
    "    for i in range(len(cols)):\n",
    "        for j in range(i+1, len(cols)):\n",
    "            ratio = SequenceMatcher(None, cols[i], cols[j]).ratio()\n",
    "            if ratio >= 0.75:\n",
    "                similarities.append((cols[i], cols[j], ratio))\n",
    "    if similarities:\n",
    "        similarities.sort(key=lambda x: x[2], reverse=True)\n",
    "        for col1, col2, ratio in similarities:\n",
    "            print(f\"- '{col1}' ↔ '{col2}' : 유사도 {ratio:.4f}\")\n",
    "        print(f\"\\n- 유사한 컬럼 쌍 총 {len(similarities)}개\")\n",
    "        avg_ratio = np.mean([r[2] for r in similarities])\n",
    "        print(f\"- 평균 유사도: {avg_ratio:.4f}\")\n",
    "    else:\n",
    "        print(\"❗ 유사한 컬럼 쌍이 존재하지 않습니다.\")\n",
    "\n",
    "    print(\"\\n\\U0001F4CC [13] 고유값 개수 많은 범주형 변수 (100개 이상)\")\n",
    "    found_many = False\n",
    "    for col in cat_cols:\n",
    "        nunique = df[col].nunique()\n",
    "        if nunique >= 100:\n",
    "            print(f\"- {col}: 고유값 {nunique}개\")\n",
    "            found_many = True\n",
    "        else:\n",
    "            print(f\"- {col}: 고유값 {nunique}개 (100 미만)\")\n",
    "    if not found_many:\n",
    "        print(\"\\n✅ 참고: 현재 고유값 100개 이상인 범주형 변수는 없습니다.\")\n",
    "\n",
    "    print(\"\\n✅ 개인정보 없이 최대한의 구조 정보 정밀 분석 완료.\")\n"
   ]
  },
  {
   "cell_type": "code",
   "execution_count": 23,
   "id": "e23a135e-d3a8-4b4f-a7d1-eee6facc850b",
   "metadata": {},
   "outputs": [],
   "source": [
    "buffer = io.StringIO()\n",
    "sys.stdout = buffer"
   ]
  },
  {
   "cell_type": "code",
   "execution_count": 24,
   "id": "9f8d7265-293f-45a6-b3ad-b597e2291d4c",
   "metadata": {},
   "outputs": [],
   "source": [
    "full_safe_eda(df)"
   ]
  },
  {
   "cell_type": "code",
   "execution_count": null,
   "id": "6d334f6d-a29d-4060-a9c7-95f9b173a17c",
   "metadata": {},
   "outputs": [],
   "source": [
    "sys.stdout = sys.__stdout__"
   ]
  },
  {
   "cell_type": "markdown",
   "id": "eca2c31b",
   "metadata": {},
   "source": [
    "예시입니다: 필요 시 다른 txt 파일명을 아래에 입력하세요."
   ]
  },
  {
   "cell_type": "code",
   "execution_count": 26,
   "id": "213052bc-627a-41bb-bb43-0167ac0207f2",
   "metadata": {},
   "outputs": [],
   "source": [
    "with open(\"eda_structure2.txt\", \"w\", encoding=\"utf-8\") as f:\n",
    "    f.write(buffer.getvalue())"
   ]
  },
  {
   "cell_type": "code",
   "execution_count": 27,
   "id": "18c66770-e670-400c-947c-5c08fe8402fe",
   "metadata": {},
   "outputs": [],
   "source": [
    "with open(\"eda_structure2.txt\", \"r\", encoding=\"utf-8\") as f:\n",
    "    print(f.read())"
   ]
  },
  {
   "cell_type": "code",
   "execution_count": 28,
   "id": "9a78980f-c65a-4de0-b4fe-251e22f07386",
   "metadata": {},
   "outputs": [],
   "source": [
    "print(f\"\\n📁 저장 완료: {os.path.abspath('eda_structure2.txt')}\")"
   ]
  }
 ],
 "metadata": {
  "kernelspec": {
   "display_name": "Python (khd_sim)",
   "language": "python",
   "name": "khd_sim"
  },
  "language_info": {
   "codemirror_mode": {
    "name": "ipython",
    "version": 3
   },
   "file_extension": ".py",
   "mimetype": "text/x-python",
   "name": "python",
   "nbconvert_exporter": "python",
   "pygments_lexer": "ipython3",
   "version": "3.9.23"
  }
 },
 "nbformat": 4,
 "nbformat_minor": 5
}
